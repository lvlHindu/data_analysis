{
 "cells": [
  {
   "cell_type": "markdown",
   "metadata": {},
   "source": [
    "# Python для Анализа данных\n",
    "\n",
    "## Домашнее задание 9: Визуализация данных с Seaborn"
   ]
  },
  {
   "cell_type": "markdown",
   "metadata": {},
   "source": [
    "## Вариант Light\n",
    "\n",
    "### Задача 1"
   ]
  },
  {
   "cell_type": "markdown",
   "metadata": {},
   "source": [
    "Установите (любой на ваш вкус) общий стиль графиков на весь ноутбук используя функцию set_style"
   ]
  },
  {
   "cell_type": "markdown",
   "metadata": {},
   "source": [
    "### Задача 2\n",
    "\n",
    "Подгрузите данные datatraining.txt при помощи соответствующей функции библиотеки Pandas. Преобразуйте индекс в datetime index, удалите столбец с датой. Постройте график всех парных взаимосвязей с разметкой цвета в соответствии с метками классов (столбец Occupancy)\n",
    "\n",
    "P.S. используйте функцию sns.pairplot c параметром hue"
   ]
  },
  {
   "cell_type": "markdown",
   "metadata": {},
   "source": [
    "### Задача 3\n",
    "\n",
    "Постройте boxplot всех признаков.\n",
    "\n",
    "P.S. график должен быть читаемым, т.е.\n",
    "* отрегулируйте размер графика\n",
    "* предварительно \"отскейлите\" все *числовые* признаки, т.е. приведите к стандартному нормальному распределению при помощи функции ниже (Occupancy скейлить не надо (!))"
   ]
  },
  {
   "cell_type": "code",
   "execution_count": 59,
   "metadata": {},
   "outputs": [],
   "source": [
    "def scale(df):\n",
    "    return (df - df.mean()) / df.std()"
   ]
  },
  {
   "cell_type": "markdown",
   "metadata": {},
   "source": [
    "### Задача 4\n",
    "\n",
    "Постройте violinplot всех признаков\n",
    "\n",
    "P.S. Предварительно приведите их к стандартному нормальному распределению как мы делали в предыдущей задаче"
   ]
  },
  {
   "cell_type": "markdown",
   "metadata": {},
   "source": [
    "### Задача 5\n",
    "\n",
    "Нарисуйте heatmap матрицы корреляций. Отрегулируйте масштаб, подберите подходящую палитру"
   ]
  },
  {
   "cell_type": "markdown",
   "metadata": {},
   "source": [
    "## Задачи Pro"
   ]
  },
  {
   "cell_type": "markdown",
   "metadata": {},
   "source": [
    "### Задача 6\n",
    "\n",
    "Постройте диаграмму присутствия в разбивке по часам и меткам классов. Для этого:\n",
    "    * создайте новый столбец \"hour\", отвечающий соответствующему часу \n",
    "    * нарисуйте sns.countplot этого столбца в разбивке по Ocuupancy"
   ]
  },
  {
   "cell_type": "markdown",
   "metadata": {},
   "source": [
    "### Задача 7\n",
    "\n",
    "Сделайте resample данных по получасовому интервалу с использованием усреднения для всех признаков. Обратите внимание, что столбец с метками класса Occupancy вместо усреднения нужно взять \"как есть\", т.е. resample c методом \"asfreq\" или \"bfill\".\n",
    "\n",
    "Постройте jointplot между признаками Light и CO2"
   ]
  },
  {
   "cell_type": "markdown",
   "metadata": {},
   "source": [
    "### Задача 8\n",
    "\n",
    "Постройте pairplot по данным после ресемплинга. В чем отличие от графиков в задаче 2? Сделайте вывод"
   ]
  },
  {
   "cell_type": "markdown",
   "metadata": {},
   "source": [
    "### Задача 9\n",
    "\n",
    "Постройте boxplot всех признаков с разбивкой по Occupancy. Для правильной отрисовки необходимо:\n",
    "    * создать новый текстовый столбец с расшифровкой столбца Occupancy, например, если 0 - то 'No', если 1 - то 'Yes\n",
    "    * передать этот столбец в качестве соответствующего параметра боксплоту\n",
    "    * для каждого признака нужен отдельный график"
   ]
  },
  {
   "cell_type": "markdown",
   "metadata": {},
   "source": [
    "### Задача 10\n",
    "\n",
    "Принимая во внимание все построенные выше графики, сделайте вывод о взаимосвязях в данных (напишите несколько предложений о том, что вы заметили)"
   ]
  },
  {
   "cell_type": "code",
   "execution_count": null,
   "metadata": {},
   "outputs": [],
   "source": []
  }
 ],
 "metadata": {
  "kernelspec": {
   "display_name": "Python 3",
   "language": "python",
   "name": "python3"
  },
  "language_info": {
   "codemirror_mode": {
    "name": "ipython",
    "version": 3
   },
   "file_extension": ".py",
   "mimetype": "text/x-python",
   "name": "python",
   "nbconvert_exporter": "python",
   "pygments_lexer": "ipython3",
   "version": "3.6.8"
  }
 },
 "nbformat": 4,
 "nbformat_minor": 2
}
