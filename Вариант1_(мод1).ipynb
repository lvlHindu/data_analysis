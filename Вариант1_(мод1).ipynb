{
  "cells": [
    {
      "cell_type": "code",
      "execution_count": null,
      "id": "c9402f9e",
      "metadata": {
        "id": "c9402f9e"
      },
      "outputs": [],
      "source": [
        "#Импортирование необходимых библиотек\n",
        "import pandas as pd\n",
        "import numpy as np\n",
        "from pprint import pprint\n",
        "import codecs\n",
        "import json\n",
        "import glob\n",
        "pd.set_option('display.max_columns', None)\n",
        "from pandas import json_normalize"
      ]
    },
    {
      "cell_type": "code",
      "execution_count": null,
      "id": "2b026585",
      "metadata": {
        "id": "2b026585"
      },
      "outputs": [],
      "source": [
        "#Путь к файлам .geojson\n",
        "path = 'Data'\n",
        "file = glob.glob(path + \"/*.json\")\n",
        "\n",
        "dataframes = []\n",
        "\n",
        "\n",
        "#Цикл для получения файла и его загрузки, используя json.load \n",
        "df_data=[]\n",
        "count = 0\n",
        "for filename in file:\n",
        "    name = filename.split(\"\\\\\")[-1][:-5]\n",
        "    \n",
        "    with codecs.open(filename, 'r', 'utf-8-sig') as json_file:  \n",
        "        data = json.load(json_file)\n",
        "           \n",
        "    for article in data['refs']:\n",
        "        if article!=None:\n",
        "            df_data.append([name, article[0], article[1]['day'], article[1]['month'], article[1]['time']])\n",
        "            \n",
        "df_full=pd.DataFrame(data=df_data,columns=['Название файла', 'Пост', 'день публикации', 'месяц публикации', 'время публикации'])"
      ]
    },
    {
      "cell_type": "code",
      "execution_count": null,
      "id": "16bf2666",
      "metadata": {
        "id": "16bf2666"
      },
      "outputs": [],
      "source": [
        "df_full.head(5)"
      ]
    },
    {
      "cell_type": "code",
      "execution_count": null,
      "id": "4d4141fc",
      "metadata": {
        "id": "4d4141fc"
      },
      "outputs": [],
      "source": [
        "#Путь к файлам .geojson\n",
        "path = 'Data'\n",
        "file = glob.glob(path + \"/*.json\")\n",
        "df_full=pd.DataFrame()\n",
        "names=[]\n",
        "#df_full=pd.DataFrame(columns=['Пост', 'день публикации', 'месяц публикации', 'время публикации'])\n",
        "#Цикл для получения файла и его загрузки, используя json.load \n",
        "for filename in file:\n",
        "    name = filename.split(\"\\\\\")[-1][:-5]\n",
        "    with codecs.open(filename, 'r', 'utf-8-sig') as json_file:  \n",
        "        data = json.load(json_file)\n",
        "    \n",
        "    for article in data['refs']:  \n",
        "        if article != None:\n",
        "            df=pd.concat(\n",
        "                [\n",
        "                    pd.DataFrame([article[0]],columns=['Post']),\n",
        "                    json_normalize(article[1]),\n",
        "                    pd.DataFrame([name],columns=['Company'])\n",
        "                ],\n",
        "                axis=1\n",
        "            )\n",
        "            df_full=pd.concat([df_full,df],axis=0,ignore_index=True)\n",
        "        "
      ]
    },
    {
      "cell_type": "code",
      "execution_count": null,
      "id": "7108fe79",
      "metadata": {
        "id": "7108fe79"
      },
      "outputs": [],
      "source": []
    },
    {
      "cell_type": "code",
      "execution_count": null,
      "id": "dd501849",
      "metadata": {
        "id": "dd501849"
      },
      "outputs": [],
      "source": []
    },
    {
      "cell_type": "code",
      "execution_count": null,
      "id": "82c0edcb",
      "metadata": {
        "id": "82c0edcb"
      },
      "outputs": [],
      "source": [
        "df_full.info()"
      ]
    },
    {
      "cell_type": "code",
      "execution_count": null,
      "id": "48fcd549",
      "metadata": {
        "id": "48fcd549"
      },
      "outputs": [],
      "source": [
        "df_full.head()"
      ]
    },
    {
      "cell_type": "code",
      "execution_count": null,
      "id": "8e40914d",
      "metadata": {
        "id": "8e40914d"
      },
      "outputs": [],
      "source": []
    },
    {
      "cell_type": "markdown",
      "id": "c550327a",
      "metadata": {
        "id": "c550327a"
      },
      "source": [
        "Датафрейм с информацией о компании"
      ]
    },
    {
      "cell_type": "code",
      "execution_count": null,
      "id": "e281b335",
      "metadata": {
        "id": "e281b335"
      },
      "outputs": [],
      "source": [
        "#Путь к файлам .geojson\n",
        "path = 'Data'\n",
        "file = glob.glob(path + \"/*.json\")\n",
        "df_full=pd.DataFrame()\n",
        "names=[]\n",
        "#df_full=pd.DataFrame(columns=['Пост', 'день публикации', 'месяц публикации', 'время публикации'])\n",
        "#Цикл для получения файла и его загрузки, используя json.load \n",
        "for filename in file:\n",
        "    name = filename.split(\"\\\\\")[-1][:-5]\n",
        "    with codecs.open(filename, 'r', 'utf-8-sig') as json_file:  \n",
        "        data = json.load(json_file)\n",
        "    \n",
        "    for article in data['refs']:  \n",
        "        if article!= None:\n",
        "            df=pd.concat(\n",
        "                [\n",
        "                    pd.DataFrame([article[0]],columns=['Post']),\n",
        "                    json_normalize(article[1]),\n",
        "                    pd.DataFrame([name],columns=['company'])\n",
        "                ],\n",
        "                axis=1\n",
        "            )\n",
        "            df_full=pd.concat([df_full,df],axis=0,ignore_index=True)\n",
        "        "
      ]
    },
    {
      "cell_type": "code",
      "execution_count": null,
      "id": "ddc5045e",
      "metadata": {
        "id": "ddc5045e"
      },
      "outputs": [],
      "source": [
        "#Путь к файлам .geojson\n",
        "path = 'Data'\n",
        "file = glob.glob(path + \"/*.json\")\n",
        "\n",
        "\n",
        "df = pd.DataFrame(columns=['rate','subs','industries','about','company']) \n",
        "\n",
        "#Цикл для получения файла и его загрузки, используя json.load \n",
        "for filename in file:\n",
        "    with codecs.open(filename, 'r', 'utf-8-sig') as json_file:  \n",
        "        data = json.load(json_file)\n",
        "        name = filename.split(\"\\\\\")[-1][:-5]   \n",
        "        try:\n",
        "            company_info=pd.concat([json_normalize(data['info']),pd.DataFrame([name],columns=['company'])],axis=1)\n",
        "        except:\n",
        "            d={'rate':['Не указано'],'subs':['Не указано'],'industries':['Не указано'],'about':['Не указано']}\n",
        "            company_info=pd.concat([pd.DataFrame(d),pd.DataFrame([name],columns=['company'])],axis=1)\n",
        "    df = pd.concat([df,company_info], axis=0, ignore_index=True)\n",
        "df.head()    \n",
        "   "
      ]
    },
    {
      "cell_type": "code",
      "execution_count": null,
      "id": "9460c87c",
      "metadata": {
        "id": "9460c87c"
      },
      "outputs": [],
      "source": [
        "tk = df_full.merge(df, on='company',how='left')"
      ]
    },
    {
      "cell_type": "code",
      "execution_count": null,
      "id": "231501c3",
      "metadata": {
        "id": "231501c3"
      },
      "outputs": [],
      "source": [
        "tk.shape"
      ]
    },
    {
      "cell_type": "code",
      "execution_count": null,
      "id": "f3aa7367",
      "metadata": {
        "id": "f3aa7367"
      },
      "outputs": [],
      "source": [
        "tk.head()"
      ]
    },
    {
      "cell_type": "markdown",
      "id": "8b40974c",
      "metadata": {
        "id": "8b40974c"
      },
      "source": [
        "### Обработка текста"
      ]
    },
    {
      "cell_type": "code",
      "execution_count": null,
      "id": "cee2ae35",
      "metadata": {
        "id": "cee2ae35"
      },
      "outputs": [],
      "source": [
        "import pymorphy2\n",
        "import re\n",
        "from nltk.corpus import stopwords\n",
        "from nltk.tokenize import word_tokenize"
      ]
    },
    {
      "cell_type": "code",
      "execution_count": null,
      "id": "b10e3a34",
      "metadata": {
        "id": "b10e3a34"
      },
      "outputs": [],
      "source": [
        "sw = stopwords.words('russian')\n",
        "morph = pymorphy2.MorphAnalyzer()\n",
        "\n",
        "def clear_text(text):\n",
        "    text=text.lower()\n",
        "    text = re.sub(r'[^а-я ]','', str(text))\n",
        "    tokens=word_tokenize(text, language=\"russian\")\n",
        "    tokens = [i for i in tokens if i not in sw and len(i) > 3]\n",
        "    tokens = [morph.parse(i)[0].normal_form for i in tokens]\n",
        "    return tokens"
      ]
    },
    {
      "cell_type": "code",
      "execution_count": null,
      "id": "c7eaf47e",
      "metadata": {
        "id": "c7eaf47e"
      },
      "outputs": [],
      "source": [
        "tk['lemmatize_tokens'] = tk['Post'].apply(lambda x: clear_text(x))"
      ]
    },
    {
      "cell_type": "code",
      "execution_count": null,
      "id": "37b23768",
      "metadata": {
        "id": "37b23768"
      },
      "outputs": [],
      "source": [
        "tk.head()"
      ]
    },
    {
      "cell_type": "code",
      "execution_count": null,
      "id": "2a7ab516",
      "metadata": {
        "id": "2a7ab516"
      },
      "outputs": [],
      "source": [
        "tk['clear_text'] = tk['lemmatize_tokens'].apply(lambda x: \" \".join(x))"
      ]
    },
    {
      "cell_type": "code",
      "execution_count": null,
      "id": "95b1a5ea",
      "metadata": {
        "id": "95b1a5ea"
      },
      "outputs": [],
      "source": [
        "tk.head()"
      ]
    },
    {
      "cell_type": "markdown",
      "id": "2a4ec36d",
      "metadata": {
        "id": "2a4ec36d"
      },
      "source": [
        "### Векторизация текста и поиск ngram"
      ]
    },
    {
      "cell_type": "code",
      "execution_count": null,
      "id": "24f8c99f",
      "metadata": {
        "id": "24f8c99f"
      },
      "outputs": [],
      "source": [
        "from sklearn.feature_extraction.text import CountVectorizer, TfidfVectorizer\n"
      ]
    },
    {
      "cell_type": "code",
      "execution_count": null,
      "id": "1627615d",
      "metadata": {
        "id": "1627615d"
      },
      "outputs": [],
      "source": [
        "tfidf = TfidfVectorizer(min_df=2,max_df=0.95,ngram_range=(1, 3))\n",
        "X_tfidf = tfidf.fit_transform(tk['clear_text'])\n",
        "df_tfidf = pd.DataFrame(X_tfidf.toarray(), columns = tfidf.get_feature_names())\n",
        "df_tfidf.head()"
      ]
    }
  ],
  "metadata": {
    "kernelspec": {
      "display_name": "Python 3",
      "language": "python",
      "name": "python3"
    },
    "language_info": {
      "codemirror_mode": {
        "name": "ipython",
        "version": 3
      },
      "file_extension": ".py",
      "mimetype": "text/x-python",
      "name": "python",
      "nbconvert_exporter": "python",
      "pygments_lexer": "ipython3",
      "version": "3.6.13"
    },
    "latex_envs": {
      "LaTeX_envs_menu_present": true,
      "autoclose": false,
      "autocomplete": true,
      "bibliofile": "biblio.bib",
      "cite_by": "apalike",
      "current_citInitial": 1,
      "eqLabelWithNumbers": true,
      "eqNumInitial": 1,
      "hotkeys": {
        "equation": "Ctrl-E",
        "itemize": "Ctrl-I"
      },
      "labels_anchors": false,
      "latex_user_defs": false,
      "report_style_numbering": false,
      "user_envs_cfg": false
    },
    "toc": {
      "base_numbering": 1,
      "nav_menu": {},
      "number_sections": true,
      "sideBar": true,
      "skip_h1_title": false,
      "title_cell": "Table of Contents",
      "title_sidebar": "Contents",
      "toc_cell": false,
      "toc_position": {},
      "toc_section_display": true,
      "toc_window_display": false
    },
    "colab": {
      "private_outputs": true,
      "provenance": []
    },
    "gpuClass": "standard"
  },
  "nbformat": 4,
  "nbformat_minor": 5
}